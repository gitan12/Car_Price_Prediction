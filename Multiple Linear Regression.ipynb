{
 "cells": [
  {
   "cell_type": "markdown",
   "id": "0ac58fbd",
   "metadata": {},
   "source": [
    "<p style=\"font-family: 'Georgia', serif; font-size: 3rem; color: #8b0000; text-align: center; margin: 0; text-shadow: 2px 2px 4px rgba(0, 0, 0, 0.3); background-color: #f5deb3; padding: 20px; border-radius: 20px; border: 7px solid #b8860b; width: 95%;\">\n",
    "    <span style=\"font-weight: bold; color: #8b0000; animation: pulse 2s infinite;\">Multiple Linear Regression</span>\n",
    "    <span style=\"font-style: italic; color: #b8860b; animation: pulse 2s infinite;\"></span>\n",
    "    <span style=\"font-weight: bold; color: #b8860b;\"></span>\n",
    "</p>\n"
   ]
  },
  {
   "cell_type": "markdown",
   "id": "4bab32de",
   "metadata": {},
   "source": [
    "\n",
    "I had worked on a project using multiple linear regression to predict a response variable based on multiple features. Multiple linear regression extended the concept of simple linear regression by allowing for multiple independent variables to predict the dependent variable. It was one of the foundational models in machine learning, and it was crucial for understanding how various factors collectively impacted the response variable.\n",
    "\n",
    "\n",
    "In multiple linear regression, the goal is to find a linear function that can accurately predict the response value (y) based on several independent variables (x1, x2, ..., xn). The project focuses on predicting car prices based on various attributes of the cars.\n",
    "\n",
    "## Key Points to Consider\n",
    "\n",
    "1. **Linear Relationship:** Ensuring that the dependent variable and the independent variables have a linear relationship.\n",
    "2. **Data Quality:** Checking for missing values, outliers, and ensuring data integrity.\n",
    "3. **Assumptions:**\n",
    "   - **Linearity:** The relationship between the dependent and independent variables should be linear.\n",
    "   - **Independence:** Observations should be independent of each other.\n",
    "   - **Homoscedasticity:** The residuals should have constant variance.\n",
    "   - **Normality:** The residuals should be normally distributed.\n",
    "4. **Coefficients Interpretation:** Understanding the meaning of the intercept and the coefficients of the independent variables.\n",
    "5. **Multicollinearity:** Checking for multicollinearity among independent variables.\n",
    "6. **Goodness of Fit:** Using metrics like R-squared and Adjusted R-squared to evaluate the model.\n",
    "7. **Residual Analysis:** Checking residual plots for patterns to ensure model assumptions hold.\n",
    "8. **Avoid Overfitting:** Ensuring the model generalizes well to new data.\n",
    "9. **Data Transformation:** Transforming variables if needed to meet model assumptions.\n",
    "10. **Domain Knowledge:** Using domain knowledge to make sense of the model and its predictions.\n",
    "\n",
    "## About the Data\n",
    "\n",
    "In this specific dataset, there are several columns that represent various attributes of cars, which are used to predict the price of a car. The dataset includes the following features:\n",
    "\n",
    "1. **car_ID:** A unique identifier for each car.\n",
    "2. **symboling:** An insurance risk rating.\n",
    "3. **CarName:** The name of the car.\n",
    "4. **fueltype:** The type of fuel the car uses (e.g., petrol, diesel).\n",
    "5. **aspiration:** The type of aspiration (e.g., turbo, standard).\n",
    "6. **doornumber:** The number of doors on the car.\n",
    "7. **carbody:** The body style of the car (e.g., sedan, hatchback).\n",
    "8. **drivewheel:** The type of drive wheel (e.g., front-wheel drive, rear-wheel drive).\n",
    "9. **enginelocation:** The location of the engine (e.g., front, rear).\n",
    "10. **wheelbase:** The distance between the front and rear wheels.\n",
    "11. **carlength:** The length of the car.\n",
    "12. **carwidth:** The width of the car.\n",
    "13. **carheight:** The height of the car.\n",
    "14. **curbweight:** The weight of the car without occupants or baggage.\n",
    "15. **enginetype:** The type of engine (e.g., DOHC, OHV).\n",
    "16. **cylindernumber:** The number of cylinders in the engine.\n",
    "17. **enginesize:** The size of the engine in cubic inches.\n",
    "18. **fuelsystem:** The type of fuel system (e.g., MPFI, 2BBL).\n",
    "19. **boreratio:** The ratio of the bore to the stroke in the engine.\n",
    "20. **stroke:** The length of the piston’s travel in the engine.\n",
    "21. **compressionratio:** The ratio of the engine’s cylinder volume with the piston at the bottom to the cylinder volume with the piston at the top.\n",
    "22. **horsepower:** The power output of the car’s engine.\n",
    "23. **peakrpm:** The engine's peak revolutions per minute.\n",
    "24. **citympg:** The car’s fuel efficiency in city driving conditions.\n",
    "25. **highwaympg:** The car’s fuel efficiency in highway driving conditions.\n",
    "26. **price:** The target variable representing the selling price of the car (in USD).\n",
    "\n",
    "## Objective\n",
    "\n",
    "By applying multiple linear regression, I aim to predict the car price based on the features listed above. This involves understanding how each feature contributes to the price and how well the combined features predict the price.\n",
    "\n",
    "## Analytical Approach\n",
    "\n",
    "1. **Data Exploration:** Load and explore the dataset to understand its structure and key characteristics.\n",
    "2. **Data Preprocessing:** Handle missing values, encode categorical variables, and normalize numerical variables as necessary.\n",
    "3. **Feature Selection:** Identify significant variables using statistical methods and domain knowledge.\n",
    "4. **Model Building:** Split the data into training and testing sets and develop a predictive model using multiple linear regression.\n",
    "5. **Model Evaluation:** Evaluate the model's performance using metrics such as R-squared, Adjusted R-squared, Mean Squared Error (MSE), and Root Mean Squared Error (RMSE).\n",
    "6. **Prediction and Insights:** Use the model to predict car prices and provide actionable insights based on the predictions.\n",
    "\n",
    "By following this approach, I aim to develop a robust multiple linear regression model that can accurately predict car prices and provide valuable insights into the factors that influence these prices.\n"
   ]
  },
  {
   "cell_type": "markdown",
   "id": "40010718",
   "metadata": {},
   "source": [
    "\n",
    "<p style=\"font-family: 'Georgia', serif; font-size: 3rem; color: #8b0000; text-align: center; margin: 0; text-shadow: 2px 2px 4px rgba(0, 0, 0, 0.3); background-color: #f5deb3; padding: 20px; border-radius: 20px; border: 7px solid #b8860b; width: 95%;\">\n",
    "    <span style=\"font-weight: bold; color: #8b0000; animation: pulse 2s infinite;\">Step 1:</span>\n",
    "    <span style=\"font-weight: bold; font-style: italic; color: #556b2f; animation: pulse 2s infinite;\">Importing Libraries</span>\n",
    "    <span style=\"font-weight: bold; color: #b8860b;\"></span>\n",
    "</p>\n"
   ]
  },
  {
   "cell_type": "code",
   "execution_count": 1,
   "id": "8605d0d8",
   "metadata": {},
   "outputs": [],
   "source": [
    "import pandas as pd \n",
    "import matplotlib.pyplot as plt\n",
    "import seaborn as sns\n",
    "\n",
    "from sklearn.preprocessing import LabelEncoder\n",
    "from sklearn.model_selection import train_test_split\n",
    "\n",
    "# For Models\n",
    "from sklearn.linear_model import LinearRegression\n",
    "from sklearn.linear_model import Ridge, Lasso, ElasticNet\n",
    "from sklearn.model_selection import GridSearchCV\n",
    "\n",
    "# For Evaluation \n",
    "from sklearn.metrics import mean_squared_error,mean_absolute_error,r2_score\n",
    "\n",
    "\n",
    "# To ignore warnings.\n",
    "import warnings \n",
    "warnings.filterwarnings('ignore')"
   ]
  },
  {
   "cell_type": "markdown",
   "id": "21a357e6",
   "metadata": {},
   "source": [
    "<p style=\"font-family: 'Georgia', serif; font-size: 3rem; color: #8b0000; text-align: center; margin: 0; text-shadow: 2px 2px 4px rgba(0, 0, 0, 0.3); background-color: #f5deb3; padding: 20px; border-radius: 20px; border: 7px solid #b8860b; width: 95%;\">\n",
    "    <span style=\"font-weight: bold; color: #8b0000; animation: pulse 2s infinite;\">Step 2:</span>\n",
    "    <span style=\"font-weight: bold; font-style: italic; color: #556b2f; animation: pulse 2s infinite;\">Data Collection</span>\n",
    "    <span style=\"font-weight: bold; color: #b8860b;\"></span>\n",
    "</p>\n"
   ]
  },
  {
   "cell_type": "code",
   "execution_count": 2,
   "id": "2649b1d3",
   "metadata": {},
   "outputs": [],
   "source": [
    "data=pd.read_csv(\"CarPrice_Assignment.csv\")"
   ]
  },
  {
   "cell_type": "markdown",
   "id": "e31ebf93",
   "metadata": {},
   "source": [
    "The line data=pd.read_csv(\"CarPrice_Assignment.csv\") is used to read a CSV file into a pandas DataFrame. "
   ]
  },
  {
   "cell_type": "markdown",
   "id": "a6cd53b3",
   "metadata": {},
   "source": [
    "<p style=\"font-family: 'Georgia', serif; font-size: 3rem; color: #8b0000; text-align: center; margin: 0; text-shadow: 2px 2px 4px rgba(0, 0, 0, 0.3); background-color: #f5deb3; padding: 20px; border-radius: 20px; border: 7px solid #b8860b; width: 95%;\">\n",
    "    <span style=\"font-weight: bold; color: #8b0000; animation: pulse 2s infinite;\">Step 3:</span>\n",
    "    <span style=\"font-weight: bold; font-style: italic; color: #556b2f; animation: pulse 2s infinite;\">Data Exploration</span>\n",
    "    <span style=\"font-weight: bold; color: #b8860b;\"></span>\n",
    "</p>\n",
    "\n",
    "\n"
   ]
  },
  {
   "cell_type": "code",
   "execution_count": 3,
   "id": "8558b5aa",
   "metadata": {},
   "outputs": [
    {
     "data": {
      "text/html": [
       "<div>\n",
       "<style scoped>\n",
       "    .dataframe tbody tr th:only-of-type {\n",
       "        vertical-align: middle;\n",
       "    }\n",
       "\n",
       "    .dataframe tbody tr th {\n",
       "        vertical-align: top;\n",
       "    }\n",
       "\n",
       "    .dataframe thead th {\n",
       "        text-align: right;\n",
       "    }\n",
       "</style>\n",
       "<table border=\"1\" class=\"dataframe\">\n",
       "  <thead>\n",
       "    <tr style=\"text-align: right;\">\n",
       "      <th></th>\n",
       "      <th>car_ID</th>\n",
       "      <th>symboling</th>\n",
       "      <th>CarName</th>\n",
       "      <th>fueltype</th>\n",
       "      <th>aspiration</th>\n",
       "      <th>doornumber</th>\n",
       "      <th>carbody</th>\n",
       "      <th>drivewheel</th>\n",
       "      <th>enginelocation</th>\n",
       "      <th>wheelbase</th>\n",
       "      <th>...</th>\n",
       "      <th>enginesize</th>\n",
       "      <th>fuelsystem</th>\n",
       "      <th>boreratio</th>\n",
       "      <th>stroke</th>\n",
       "      <th>compressionratio</th>\n",
       "      <th>horsepower</th>\n",
       "      <th>peakrpm</th>\n",
       "      <th>citympg</th>\n",
       "      <th>highwaympg</th>\n",
       "      <th>price</th>\n",
       "    </tr>\n",
       "  </thead>\n",
       "  <tbody>\n",
       "    <tr>\n",
       "      <th>0</th>\n",
       "      <td>1</td>\n",
       "      <td>3</td>\n",
       "      <td>alfa-romero giulia</td>\n",
       "      <td>gas</td>\n",
       "      <td>std</td>\n",
       "      <td>two</td>\n",
       "      <td>convertible</td>\n",
       "      <td>rwd</td>\n",
       "      <td>front</td>\n",
       "      <td>88.6</td>\n",
       "      <td>...</td>\n",
       "      <td>130</td>\n",
       "      <td>mpfi</td>\n",
       "      <td>3.47</td>\n",
       "      <td>2.68</td>\n",
       "      <td>9.0</td>\n",
       "      <td>111</td>\n",
       "      <td>5000</td>\n",
       "      <td>21</td>\n",
       "      <td>27</td>\n",
       "      <td>13495.0</td>\n",
       "    </tr>\n",
       "    <tr>\n",
       "      <th>1</th>\n",
       "      <td>2</td>\n",
       "      <td>3</td>\n",
       "      <td>alfa-romero stelvio</td>\n",
       "      <td>gas</td>\n",
       "      <td>std</td>\n",
       "      <td>two</td>\n",
       "      <td>convertible</td>\n",
       "      <td>rwd</td>\n",
       "      <td>front</td>\n",
       "      <td>88.6</td>\n",
       "      <td>...</td>\n",
       "      <td>130</td>\n",
       "      <td>mpfi</td>\n",
       "      <td>3.47</td>\n",
       "      <td>2.68</td>\n",
       "      <td>9.0</td>\n",
       "      <td>111</td>\n",
       "      <td>5000</td>\n",
       "      <td>21</td>\n",
       "      <td>27</td>\n",
       "      <td>16500.0</td>\n",
       "    </tr>\n",
       "    <tr>\n",
       "      <th>2</th>\n",
       "      <td>3</td>\n",
       "      <td>1</td>\n",
       "      <td>alfa-romero Quadrifoglio</td>\n",
       "      <td>gas</td>\n",
       "      <td>std</td>\n",
       "      <td>two</td>\n",
       "      <td>hatchback</td>\n",
       "      <td>rwd</td>\n",
       "      <td>front</td>\n",
       "      <td>94.5</td>\n",
       "      <td>...</td>\n",
       "      <td>152</td>\n",
       "      <td>mpfi</td>\n",
       "      <td>2.68</td>\n",
       "      <td>3.47</td>\n",
       "      <td>9.0</td>\n",
       "      <td>154</td>\n",
       "      <td>5000</td>\n",
       "      <td>19</td>\n",
       "      <td>26</td>\n",
       "      <td>16500.0</td>\n",
       "    </tr>\n",
       "    <tr>\n",
       "      <th>3</th>\n",
       "      <td>4</td>\n",
       "      <td>2</td>\n",
       "      <td>audi 100 ls</td>\n",
       "      <td>gas</td>\n",
       "      <td>std</td>\n",
       "      <td>four</td>\n",
       "      <td>sedan</td>\n",
       "      <td>fwd</td>\n",
       "      <td>front</td>\n",
       "      <td>99.8</td>\n",
       "      <td>...</td>\n",
       "      <td>109</td>\n",
       "      <td>mpfi</td>\n",
       "      <td>3.19</td>\n",
       "      <td>3.40</td>\n",
       "      <td>10.0</td>\n",
       "      <td>102</td>\n",
       "      <td>5500</td>\n",
       "      <td>24</td>\n",
       "      <td>30</td>\n",
       "      <td>13950.0</td>\n",
       "    </tr>\n",
       "    <tr>\n",
       "      <th>4</th>\n",
       "      <td>5</td>\n",
       "      <td>2</td>\n",
       "      <td>audi 100ls</td>\n",
       "      <td>gas</td>\n",
       "      <td>std</td>\n",
       "      <td>four</td>\n",
       "      <td>sedan</td>\n",
       "      <td>4wd</td>\n",
       "      <td>front</td>\n",
       "      <td>99.4</td>\n",
       "      <td>...</td>\n",
       "      <td>136</td>\n",
       "      <td>mpfi</td>\n",
       "      <td>3.19</td>\n",
       "      <td>3.40</td>\n",
       "      <td>8.0</td>\n",
       "      <td>115</td>\n",
       "      <td>5500</td>\n",
       "      <td>18</td>\n",
       "      <td>22</td>\n",
       "      <td>17450.0</td>\n",
       "    </tr>\n",
       "  </tbody>\n",
       "</table>\n",
       "<p>5 rows × 26 columns</p>\n",
       "</div>"
      ],
      "text/plain": [
       "   car_ID  symboling                   CarName fueltype aspiration doornumber  \\\n",
       "0       1          3        alfa-romero giulia      gas        std        two   \n",
       "1       2          3       alfa-romero stelvio      gas        std        two   \n",
       "2       3          1  alfa-romero Quadrifoglio      gas        std        two   \n",
       "3       4          2               audi 100 ls      gas        std       four   \n",
       "4       5          2                audi 100ls      gas        std       four   \n",
       "\n",
       "       carbody drivewheel enginelocation  wheelbase  ...  enginesize  \\\n",
       "0  convertible        rwd          front       88.6  ...         130   \n",
       "1  convertible        rwd          front       88.6  ...         130   \n",
       "2    hatchback        rwd          front       94.5  ...         152   \n",
       "3        sedan        fwd          front       99.8  ...         109   \n",
       "4        sedan        4wd          front       99.4  ...         136   \n",
       "\n",
       "   fuelsystem  boreratio  stroke compressionratio horsepower  peakrpm citympg  \\\n",
       "0        mpfi       3.47    2.68              9.0        111     5000      21   \n",
       "1        mpfi       3.47    2.68              9.0        111     5000      21   \n",
       "2        mpfi       2.68    3.47              9.0        154     5000      19   \n",
       "3        mpfi       3.19    3.40             10.0        102     5500      24   \n",
       "4        mpfi       3.19    3.40              8.0        115     5500      18   \n",
       "\n",
       "   highwaympg    price  \n",
       "0          27  13495.0  \n",
       "1          27  16500.0  \n",
       "2          26  16500.0  \n",
       "3          30  13950.0  \n",
       "4          22  17450.0  \n",
       "\n",
       "[5 rows x 26 columns]"
      ]
     },
     "execution_count": 3,
     "metadata": {},
     "output_type": "execute_result"
    }
   ],
   "source": [
    "data.head()"
   ]
  },
  {
   "cell_type": "code",
   "execution_count": 4,
   "id": "9e77277d",
   "metadata": {},
   "outputs": [
    {
     "data": {
      "text/plain": [
       "car_ID              0\n",
       "symboling           0\n",
       "CarName             0\n",
       "fueltype            0\n",
       "aspiration          0\n",
       "doornumber          0\n",
       "carbody             0\n",
       "drivewheel          0\n",
       "enginelocation      0\n",
       "wheelbase           0\n",
       "carlength           0\n",
       "carwidth            0\n",
       "carheight           0\n",
       "curbweight          0\n",
       "enginetype          0\n",
       "cylindernumber      0\n",
       "enginesize          0\n",
       "fuelsystem          0\n",
       "boreratio           0\n",
       "stroke              0\n",
       "compressionratio    0\n",
       "horsepower          0\n",
       "peakrpm             0\n",
       "citympg             0\n",
       "highwaympg          0\n",
       "price               0\n",
       "dtype: int64"
      ]
     },
     "execution_count": 4,
     "metadata": {},
     "output_type": "execute_result"
    }
   ],
   "source": [
    "data.isnull().sum()"
   ]
  },
  {
   "cell_type": "markdown",
   "id": "247a3cb9",
   "metadata": {},
   "source": [
    "It indicates that there are no missing values in any of the columns of the DataFrame. Each column has a count of 0, meaning all entries are complete and there are no NaN values in the dataset. This is a good indication that the dataset is clean and ready for further analysis without the need for handling missing values."
   ]
  },
  {
   "cell_type": "code",
   "execution_count": 5,
   "id": "b98378f9",
   "metadata": {},
   "outputs": [
    {
     "data": {
      "text/html": [
       "<div>\n",
       "<style scoped>\n",
       "    .dataframe tbody tr th:only-of-type {\n",
       "        vertical-align: middle;\n",
       "    }\n",
       "\n",
       "    .dataframe tbody tr th {\n",
       "        vertical-align: top;\n",
       "    }\n",
       "\n",
       "    .dataframe thead th {\n",
       "        text-align: right;\n",
       "    }\n",
       "</style>\n",
       "<table border=\"1\" class=\"dataframe\">\n",
       "  <thead>\n",
       "    <tr style=\"text-align: right;\">\n",
       "      <th></th>\n",
       "      <th>count</th>\n",
       "      <th>mean</th>\n",
       "      <th>std</th>\n",
       "      <th>min</th>\n",
       "      <th>25%</th>\n",
       "      <th>50%</th>\n",
       "      <th>75%</th>\n",
       "      <th>max</th>\n",
       "    </tr>\n",
       "  </thead>\n",
       "  <tbody>\n",
       "    <tr>\n",
       "      <th>car_ID</th>\n",
       "      <td>205.0</td>\n",
       "      <td>103.000000</td>\n",
       "      <td>59.322565</td>\n",
       "      <td>1.00</td>\n",
       "      <td>52.00</td>\n",
       "      <td>103.00</td>\n",
       "      <td>154.00</td>\n",
       "      <td>205.00</td>\n",
       "    </tr>\n",
       "    <tr>\n",
       "      <th>symboling</th>\n",
       "      <td>205.0</td>\n",
       "      <td>0.834146</td>\n",
       "      <td>1.245307</td>\n",
       "      <td>-2.00</td>\n",
       "      <td>0.00</td>\n",
       "      <td>1.00</td>\n",
       "      <td>2.00</td>\n",
       "      <td>3.00</td>\n",
       "    </tr>\n",
       "    <tr>\n",
       "      <th>wheelbase</th>\n",
       "      <td>205.0</td>\n",
       "      <td>98.756585</td>\n",
       "      <td>6.021776</td>\n",
       "      <td>86.60</td>\n",
       "      <td>94.50</td>\n",
       "      <td>97.00</td>\n",
       "      <td>102.40</td>\n",
       "      <td>120.90</td>\n",
       "    </tr>\n",
       "    <tr>\n",
       "      <th>carlength</th>\n",
       "      <td>205.0</td>\n",
       "      <td>174.049268</td>\n",
       "      <td>12.337289</td>\n",
       "      <td>141.10</td>\n",
       "      <td>166.30</td>\n",
       "      <td>173.20</td>\n",
       "      <td>183.10</td>\n",
       "      <td>208.10</td>\n",
       "    </tr>\n",
       "    <tr>\n",
       "      <th>carwidth</th>\n",
       "      <td>205.0</td>\n",
       "      <td>65.907805</td>\n",
       "      <td>2.145204</td>\n",
       "      <td>60.30</td>\n",
       "      <td>64.10</td>\n",
       "      <td>65.50</td>\n",
       "      <td>66.90</td>\n",
       "      <td>72.30</td>\n",
       "    </tr>\n",
       "    <tr>\n",
       "      <th>carheight</th>\n",
       "      <td>205.0</td>\n",
       "      <td>53.724878</td>\n",
       "      <td>2.443522</td>\n",
       "      <td>47.80</td>\n",
       "      <td>52.00</td>\n",
       "      <td>54.10</td>\n",
       "      <td>55.50</td>\n",
       "      <td>59.80</td>\n",
       "    </tr>\n",
       "    <tr>\n",
       "      <th>curbweight</th>\n",
       "      <td>205.0</td>\n",
       "      <td>2555.565854</td>\n",
       "      <td>520.680204</td>\n",
       "      <td>1488.00</td>\n",
       "      <td>2145.00</td>\n",
       "      <td>2414.00</td>\n",
       "      <td>2935.00</td>\n",
       "      <td>4066.00</td>\n",
       "    </tr>\n",
       "    <tr>\n",
       "      <th>enginesize</th>\n",
       "      <td>205.0</td>\n",
       "      <td>126.907317</td>\n",
       "      <td>41.642693</td>\n",
       "      <td>61.00</td>\n",
       "      <td>97.00</td>\n",
       "      <td>120.00</td>\n",
       "      <td>141.00</td>\n",
       "      <td>326.00</td>\n",
       "    </tr>\n",
       "    <tr>\n",
       "      <th>boreratio</th>\n",
       "      <td>205.0</td>\n",
       "      <td>3.329756</td>\n",
       "      <td>0.270844</td>\n",
       "      <td>2.54</td>\n",
       "      <td>3.15</td>\n",
       "      <td>3.31</td>\n",
       "      <td>3.58</td>\n",
       "      <td>3.94</td>\n",
       "    </tr>\n",
       "    <tr>\n",
       "      <th>stroke</th>\n",
       "      <td>205.0</td>\n",
       "      <td>3.255415</td>\n",
       "      <td>0.313597</td>\n",
       "      <td>2.07</td>\n",
       "      <td>3.11</td>\n",
       "      <td>3.29</td>\n",
       "      <td>3.41</td>\n",
       "      <td>4.17</td>\n",
       "    </tr>\n",
       "    <tr>\n",
       "      <th>compressionratio</th>\n",
       "      <td>205.0</td>\n",
       "      <td>10.142537</td>\n",
       "      <td>3.972040</td>\n",
       "      <td>7.00</td>\n",
       "      <td>8.60</td>\n",
       "      <td>9.00</td>\n",
       "      <td>9.40</td>\n",
       "      <td>23.00</td>\n",
       "    </tr>\n",
       "    <tr>\n",
       "      <th>horsepower</th>\n",
       "      <td>205.0</td>\n",
       "      <td>104.117073</td>\n",
       "      <td>39.544167</td>\n",
       "      <td>48.00</td>\n",
       "      <td>70.00</td>\n",
       "      <td>95.00</td>\n",
       "      <td>116.00</td>\n",
       "      <td>288.00</td>\n",
       "    </tr>\n",
       "    <tr>\n",
       "      <th>peakrpm</th>\n",
       "      <td>205.0</td>\n",
       "      <td>5125.121951</td>\n",
       "      <td>476.985643</td>\n",
       "      <td>4150.00</td>\n",
       "      <td>4800.00</td>\n",
       "      <td>5200.00</td>\n",
       "      <td>5500.00</td>\n",
       "      <td>6600.00</td>\n",
       "    </tr>\n",
       "    <tr>\n",
       "      <th>citympg</th>\n",
       "      <td>205.0</td>\n",
       "      <td>25.219512</td>\n",
       "      <td>6.542142</td>\n",
       "      <td>13.00</td>\n",
       "      <td>19.00</td>\n",
       "      <td>24.00</td>\n",
       "      <td>30.00</td>\n",
       "      <td>49.00</td>\n",
       "    </tr>\n",
       "    <tr>\n",
       "      <th>highwaympg</th>\n",
       "      <td>205.0</td>\n",
       "      <td>30.751220</td>\n",
       "      <td>6.886443</td>\n",
       "      <td>16.00</td>\n",
       "      <td>25.00</td>\n",
       "      <td>30.00</td>\n",
       "      <td>34.00</td>\n",
       "      <td>54.00</td>\n",
       "    </tr>\n",
       "    <tr>\n",
       "      <th>price</th>\n",
       "      <td>205.0</td>\n",
       "      <td>13276.710571</td>\n",
       "      <td>7988.852332</td>\n",
       "      <td>5118.00</td>\n",
       "      <td>7788.00</td>\n",
       "      <td>10295.00</td>\n",
       "      <td>16503.00</td>\n",
       "      <td>45400.00</td>\n",
       "    </tr>\n",
       "  </tbody>\n",
       "</table>\n",
       "</div>"
      ],
      "text/plain": [
       "                  count          mean          std      min      25%  \\\n",
       "car_ID            205.0    103.000000    59.322565     1.00    52.00   \n",
       "symboling         205.0      0.834146     1.245307    -2.00     0.00   \n",
       "wheelbase         205.0     98.756585     6.021776    86.60    94.50   \n",
       "carlength         205.0    174.049268    12.337289   141.10   166.30   \n",
       "carwidth          205.0     65.907805     2.145204    60.30    64.10   \n",
       "carheight         205.0     53.724878     2.443522    47.80    52.00   \n",
       "curbweight        205.0   2555.565854   520.680204  1488.00  2145.00   \n",
       "enginesize        205.0    126.907317    41.642693    61.00    97.00   \n",
       "boreratio         205.0      3.329756     0.270844     2.54     3.15   \n",
       "stroke            205.0      3.255415     0.313597     2.07     3.11   \n",
       "compressionratio  205.0     10.142537     3.972040     7.00     8.60   \n",
       "horsepower        205.0    104.117073    39.544167    48.00    70.00   \n",
       "peakrpm           205.0   5125.121951   476.985643  4150.00  4800.00   \n",
       "citympg           205.0     25.219512     6.542142    13.00    19.00   \n",
       "highwaympg        205.0     30.751220     6.886443    16.00    25.00   \n",
       "price             205.0  13276.710571  7988.852332  5118.00  7788.00   \n",
       "\n",
       "                       50%       75%       max  \n",
       "car_ID              103.00    154.00    205.00  \n",
       "symboling             1.00      2.00      3.00  \n",
       "wheelbase            97.00    102.40    120.90  \n",
       "carlength           173.20    183.10    208.10  \n",
       "carwidth             65.50     66.90     72.30  \n",
       "carheight            54.10     55.50     59.80  \n",
       "curbweight         2414.00   2935.00   4066.00  \n",
       "enginesize          120.00    141.00    326.00  \n",
       "boreratio             3.31      3.58      3.94  \n",
       "stroke                3.29      3.41      4.17  \n",
       "compressionratio      9.00      9.40     23.00  \n",
       "horsepower           95.00    116.00    288.00  \n",
       "peakrpm            5200.00   5500.00   6600.00  \n",
       "citympg              24.00     30.00     49.00  \n",
       "highwaympg           30.00     34.00     54.00  \n",
       "price             10295.00  16503.00  45400.00  "
      ]
     },
     "execution_count": 5,
     "metadata": {},
     "output_type": "execute_result"
    }
   ],
   "source": [
    "data.describe().T"
   ]
  },
  {
   "cell_type": "code",
   "execution_count": 6,
   "id": "bad40371",
   "metadata": {},
   "outputs": [
    {
     "data": {
      "text/plain": [
       "(205, 26)"
      ]
     },
     "execution_count": 6,
     "metadata": {},
     "output_type": "execute_result"
    }
   ],
   "source": [
    "data.shape"
   ]
  },
  {
   "cell_type": "markdown",
   "id": "0caa06a4",
   "metadata": {},
   "source": [
    "The output (205, 26) indicates that the DataFrame data has:\n",
    "\n",
    "205 rows: This represents the number of records or observations in the dataset.\n",
    "26 columns: This represents the number of features or attributes in the dataset."
   ]
  },
  {
   "cell_type": "code",
   "execution_count": 7,
   "id": "7a98c302",
   "metadata": {},
   "outputs": [
    {
     "data": {
      "text/plain": [
       "doornumber\n",
       "four    115\n",
       "two      90\n",
       "Name: count, dtype: int64"
      ]
     },
     "execution_count": 7,
     "metadata": {},
     "output_type": "execute_result"
    }
   ],
   "source": [
    "data['doornumber'].value_counts()"
   ]
  },
  {
   "cell_type": "markdown",
   "id": "b421c10f",
   "metadata": {},
   "source": [
    "<p style=\"font-family: 'Georgia', serif; font-size: 3rem; color: #8b0000; text-align: center; margin: 0; text-shadow: 2px 2px 4px rgba(0, 0, 0, 0.3); background-color: #f5deb3; padding: 20px; border-radius: 20px; border: 7px solid #b8860b; width: 95%;\">\n",
    "    <span style=\"font-weight: bold; color: #8b0000; animation: pulse 2s infinite;\">Step 4:</span>\n",
    "    <span style=\"font-weight: bold; font-style: italic; color: #556b2f; animation: pulse 2s infinite;\">Exploratory Data Analysis </span>\n",
    "    <span style=\"font-weight: bold; color: #b8860b;\"></span>\n",
    "</p>\n",
    "\n",
    "\n"
   ]
  },
  {
   "cell_type": "code",
   "execution_count": 8,
   "id": "c7a3ca75",
   "metadata": {},
   "outputs": [],
   "source": [
    "# Set the style for the plots\n",
    "sns.set(style=\"whitegrid\")"
   ]
  },
  {
   "cell_type": "markdown",
   "id": "ef8f8a35",
   "metadata": {},
   "source": [
    "**sns.set():** This function is used to set aesthetic parameters in Seaborn.\n",
    "\n",
    "**style=\"whitegrid\":** This specific style adds a white background with gridlines, which helps improve the readability and visual appeal of the plots by making it easier to see and compare data points."
   ]
  },
  {
   "cell_type": "markdown",
   "id": "5960fead",
   "metadata": {},
   "source": [
    "<p style=\"font-family: 'Georgia', serif; font-size: 3rem; color: #8b0000; text-align: center; margin: 0; text-shadow: 2px 2px 4px rgba(0, 0, 0, 0.3); background-color: #f5deb3; padding: 20px; border-radius: 20px; border: 7px solid #b8860b; width: 95%;\">\n",
    "    <span style=\"font-weight: bold; color: #8b0000; animation: pulse 2s infinite;\">Step 4.1:</span>\n",
    "    <span style=\"font-weight: bold; font-style: italic; color: #556b2f; animation: pulse 2s infinite;\"> Histogram for the 'price' column </span>\n",
    "    <span style=\"font-weight: bold; color: #b8860b;\"></span>\n",
    "</p>\n",
    "\n",
    "\n"
   ]
  },
  {
   "cell_type": "code",
   "execution_count": 9,
   "id": "f78748d8",
   "metadata": {},
   "outputs": [
    {
     "data": {
      "image/png": "[encoded data removed]",
      "text/plain": [
       "<Figure size 1000x600 with 1 Axes>"
      ]
     },
     "metadata": {},
     "output_type": "display_data"
    }
   ],
   "source": [
    "\n",
    "plt.figure(figsize=(10, 6))\n",
    "sns.histplot(data['price'], bins=30, kde=True, color='blue')\n",
    "plt.title('Distribution of Car Prices')\n",
    "plt.xlabel('Price')\n",
    "plt.ylabel('Frequency')\n",
    "plt.show()\n"
   ]
  },
  {
   "cell_type": "markdown",
   "id": "43c0bdb0",
   "metadata": {},
   "source": [
    " **Purpose**\n",
    "\n",
    "- **Identify Skewness:** Determine if the data is skewed.\n",
    "\n",
    "- **Detect Outliers:** Spot any potential outliers.\n",
    "\n",
    "- **Understand Frequency Distribution:** Visualize the common price ranges.\n",
    "\n",
    "**Conclusion**\n",
    "\n",
    "- **Right Skewness:** Most car prices are lower, with fewer high-priced cars.\n",
    "\n",
    "- **Common Price Range:** Majority of cars are priced between 5,000 dollar and 15,000 dollar.\n",
    "\n",
    "- **Frequency Drop-Off:** Fewer cars are priced above $20,000.\n"
   ]
  },
  {
   "cell_type": "markdown",
   "id": "248ffd48",
   "metadata": {},
   "source": [
    "<p style=\"font-family: 'Georgia', serif; font-size: 3rem; color: #8b0000; text-align: center; margin: 0; text-shadow: 2px 2px 4px rgba(0, 0, 0, 0.3); background-color: #f5deb3; padding: 20px; border-radius: 20px; border: 7px solid #b8860b; width: 95%;\">\n",
    "    <span style=\"font-weight: bold; color: #8b0000; animation: pulse 2s infinite;\">Step 4.2:</span>\n",
    "    <span style=\"font-weight: bold; font-style: italic; color: #556b2f; animation: pulse 2s infinite;\"> Box plot for 'price' vs 'carbody'</span>\n",
    "    <span style=\"font-weight: bold; color: #b8860b;\"></span>\n",
    "</p>\n",
    "\n",
    "\n"
   ]
  },
  {
   "cell_type": "code",
   "execution_count": 10,
   "id": "8d95283b",
   "metadata": {},
   "outputs": [
    {
     "data": {
      "image/png": "[encoded data removed]",
      "text/plain": [
       "<Figure size 1000x600 with 1 Axes>"
      ]
     },
     "metadata": {},
     "output_type": "display_data"
    }
   ],
   "source": [
    "\n",
    "plt.figure(figsize=(10, 6))\n",
    "sns.boxplot(x='carbody', y='price', data=data, palette='Set1')\n",
    "plt.title('Price Distribution by Car Body Type')\n",
    "plt.xlabel('Car Body Type')\n",
    "plt.ylabel('Price')\n",
    "plt.show()\n"
   ]
  },
  {
   "cell_type": "markdown",
   "id": "fcc1f0db",
   "metadata": {},
   "source": [
    "- **Right Skewness:** Convertible, sedan, and hardtop prices show right skewness, indicating more cars are priced lower with a few high-priced ones.\n",
    "\n",
    "- **Common Price Range:** Majority of hatchbacks and wagons are priced between 5,000 dollar and 15,000 dollar.\n",
    "\n",
    "- **Price Variability:** Convertibles and hardtops show a wider range of prices compared to other car types.\n",
    "\n",
    "- **Outliers:** Notable outliers are present in sedan and hardtop categories, indicating some very high-priced cars."
   ]
  },
  {
   "cell_type": "markdown",
   "id": "8cdaa6de",
   "metadata": {},
   "source": [
    "<p style=\"font-family: 'Georgia', serif; font-size: 3rem; color: #8b0000; text-align: center; margin: 0; text-shadow: 2px 2px 4px rgba(0, 0, 0, 0.3); background-color: #f5deb3; padding: 20px; border-radius: 20px; border: 7px solid #b8860b; width: 95%;\">\n",
    "    <span style=\"font-weight: bold; color: #8b0000; animation: pulse 2s infinite;\">Step 4.3:</span>\n",
    "    <span style=\"font-weight: bold; font-style: italic; color: #556b2f; animation: pulse 2s infinite;\">Scatter plot for 'horsepower' vs 'price' </span>\n",
    "    <span style=\"font-weight: bold; color: #b8860b;\"></span>\n",
    "</p>\n",
    "\n",
    "\n"
   ]
  },
  {
   "cell_type": "code",
   "execution_count": 11,
   "id": "5ffab16b",
   "metadata": {},
   "outputs": [
    {
     "data": {
      "image/png": "[encoded data removed]",
      "text/plain": [
       "<Figure size 1000x600 with 1 Axes>"
      ]
     },
     "metadata": {},
     "output_type": "display_data"
    }
   ],
   "source": [
    "\n",
    "plt.figure(figsize=(10, 6))\n",
    "sns.scatterplot(x='horsepower', y='price', data=data, color='green')\n",
    "plt.title('Horsepower vs Price')\n",
    "plt.xlabel('Horsepower')\n",
    "plt.ylabel('Price')\n",
    "plt.show()"
   ]
  },
  {
   "cell_type": "markdown",
   "id": "eab64909",
   "metadata": {},
   "source": [
    "\n",
    "\n",
    "- **Price Increase with Horsepower**: Higher horsepower typically leads to higher prices, suggesting that more powerful cars are more expensive.\n",
    "\n",
    "- **Common Range**: Majority of cars fall within the 50-150 horsepower range and are priced between 5,000 dollar and 20,000 dollar.\n",
    "\n",
    "- **High-Priced Outliers**: Some outliers are present where cars with similar horsepower have much higher prices, indicating potential luxury or high-performance models."
   ]
  },
  {
   "cell_type": "markdown",
   "id": "d7eb56dc",
   "metadata": {},
   "source": [
    "<p style=\"font-family: 'Georgia', serif; font-size: 3rem; color: #8b0000; text-align: center; margin: 0; text-shadow: 2px 2px 4px rgba(0, 0, 0, 0.3); background-color: #f5deb3; padding: 20px; border-radius: 20px; border: 7px solid #b8860b; width: 95%;\">\n",
    "    <span style=\"font-weight: bold; color: #8b0000; animation: pulse 2s infinite;\">Step 5:</span>\n",
    "    <span style=\"font-weight: bold; font-style: italic; color: #556b2f; animation: pulse 2s infinite;\"> Data Pre-processing</span>\n",
    "    <span style=\"font-weight: bold; color: #b8860b;\"></span>\n",
    "</p>\n"
   ]
  },
  {
   "cell_type": "code",
   "execution_count": 12,
   "id": "93885795",
   "metadata": {},
   "outputs": [],
   "source": [
    "# Droping unnecessary features\n",
    "\n",
    "data.drop([\"car_ID\",'CarName'],axis=1,inplace=True)"
   ]
  },
  {
   "cell_type": "code",
   "execution_count": 13,
   "id": "51bd5274",
   "metadata": {},
   "outputs": [
    {
     "data": {
      "text/plain": [
       "Index(['symboling', 'fueltype', 'aspiration', 'doornumber', 'carbody',\n",
       "       'drivewheel', 'enginelocation', 'wheelbase', 'carlength', 'carwidth',\n",
       "       'carheight', 'curbweight', 'enginetype', 'cylindernumber', 'enginesize',\n",
       "       'fuelsystem', 'boreratio', 'stroke', 'compressionratio', 'horsepower',\n",
       "       'peakrpm', 'citympg', 'highwaympg', 'price'],\n",
       "      dtype='object')"
      ]
     },
     "execution_count": 13,
     "metadata": {},
     "output_type": "execute_result"
    }
   ],
   "source": [
    "data.columns"
   ]
  },
  {
   "cell_type": "code",
   "execution_count": 14,
   "id": "4456f43e",
   "metadata": {},
   "outputs": [
    {
     "data": {
      "text/plain": [
       "symboling             6\n",
       "fueltype              2\n",
       "aspiration            2\n",
       "doornumber            2\n",
       "carbody               5\n",
       "drivewheel            3\n",
       "enginelocation        2\n",
       "wheelbase            53\n",
       "carlength            75\n",
       "carwidth             44\n",
       "carheight            49\n",
       "curbweight          171\n",
       "enginetype            7\n",
       "cylindernumber        7\n",
       "enginesize           44\n",
       "fuelsystem            8\n",
       "boreratio            38\n",
       "stroke               37\n",
       "compressionratio     32\n",
       "horsepower           59\n",
       "peakrpm              23\n",
       "citympg              29\n",
       "highwaympg           30\n",
       "price               189\n",
       "dtype: int64"
      ]
     },
     "execution_count": 14,
     "metadata": {},
     "output_type": "execute_result"
    }
   ],
   "source": [
    "data.nunique()"
   ]
  },
  {
   "cell_type": "code",
   "execution_count": 15,
   "id": "bf832bb9",
   "metadata": {},
   "outputs": [
    {
     "data": {
      "text/plain": [
       "<bound method Series.unique of 0       two\n",
       "1       two\n",
       "2       two\n",
       "3      four\n",
       "4      four\n",
       "       ... \n",
       "200    four\n",
       "201    four\n",
       "202    four\n",
       "203    four\n",
       "204    four\n",
       "Name: doornumber, Length: 205, dtype: object>"
      ]
     },
     "execution_count": 15,
     "metadata": {},
     "output_type": "execute_result"
    }
   ],
   "source": [
    "data['doornumber'].unique"
   ]
  },
  {
   "cell_type": "code",
   "execution_count": 16,
   "id": "5d172b55",
   "metadata": {},
   "outputs": [],
   "source": [
    "# map function used for converting catergorical value as per our requirement \n",
    "\n",
    "data['doornumber']=data['doornumber'].map({'two':2,'four':4})\n",
    "data['fueltype']=data['fueltype'].map({'gas':2,'diesel':1})\n",
    "data['aspiration']=data['aspiration'].map({'std':1,'turbo':2})\n",
    "data['enginelocation']=data['enginelocation'].map({'front':1,'rear':2})\n",
    "data['cylindernumber']=data['cylindernumber'].map({'two':2,'three':3,'four':4,'five':5,'six':6,'eight':8,'twelve':12})\n",
    "data['drivewheel']=data['drivewheel'].map({'rwd':1,'fwd':2,'4wd':3})"
   ]
  },
  {
   "cell_type": "markdown",
   "id": "ed7465d2",
   "metadata": {},
   "source": [
    "The `map` function in pandas is used to substitute each value in a Series with another value using a mapping dictionary or a function. It is particularly useful for transforming categorical data into numerical data or for applying custom transformations to the data."
   ]
  },
  {
   "cell_type": "code",
   "execution_count": 17,
   "id": "c9dfc9b0",
   "metadata": {},
   "outputs": [
    {
     "data": {
      "text/html": [
       "<div>\n",
       "<style scoped>\n",
       "    .dataframe tbody tr th:only-of-type {\n",
       "        vertical-align: middle;\n",
       "    }\n",
       "\n",
       "    .dataframe tbody tr th {\n",
       "        vertical-align: top;\n",
       "    }\n",
       "\n",
       "    .dataframe thead th {\n",
       "        text-align: right;\n",
       "    }\n",
       "</style>\n",
       "<table border=\"1\" class=\"dataframe\">\n",
       "  <thead>\n",
       "    <tr style=\"text-align: right;\">\n",
       "      <th></th>\n",
       "      <th>symboling</th>\n",
       "      <th>fueltype</th>\n",
       "      <th>aspiration</th>\n",
       "      <th>doornumber</th>\n",
       "      <th>carbody</th>\n",
       "      <th>drivewheel</th>\n",
       "      <th>enginelocation</th>\n",
       "      <th>wheelbase</th>\n",
       "      <th>carlength</th>\n",
       "      <th>carwidth</th>\n",
       "      <th>...</th>\n",
       "      <th>enginesize</th>\n",
       "      <th>fuelsystem</th>\n",
       "      <th>boreratio</th>\n",
       "      <th>stroke</th>\n",
       "      <th>compressionratio</th>\n",
       "      <th>horsepower</th>\n",
       "      <th>peakrpm</th>\n",
       "      <th>citympg</th>\n",
       "      <th>highwaympg</th>\n",
       "      <th>price</th>\n",
       "    </tr>\n",
       "  </thead>\n",
       "  <tbody>\n",
       "    <tr>\n",
       "      <th>0</th>\n",
       "      <td>3</td>\n",
       "      <td>2</td>\n",
       "      <td>1</td>\n",
       "      <td>2</td>\n",
       "      <td>convertible</td>\n",
       "      <td>1</td>\n",
       "      <td>1</td>\n",
       "      <td>88.6</td>\n",
       "      <td>168.8</td>\n",
       "      <td>64.1</td>\n",
       "      <td>...</td>\n",
       "      <td>130</td>\n",
       "      <td>mpfi</td>\n",
       "      <td>3.47</td>\n",
       "      <td>2.68</td>\n",
       "      <td>9.0</td>\n",
       "      <td>111</td>\n",
       "      <td>5000</td>\n",
       "      <td>21</td>\n",
       "      <td>27</td>\n",
       "      <td>13495.0</td>\n",
       "    </tr>\n",
       "    <tr>\n",
       "      <th>1</th>\n",
       "      <td>3</td>\n",
       "      <td>2</td>\n",
       "      <td>1</td>\n",
       "      <td>2</td>\n",
       "      <td>convertible</td>\n",
       "      <td>1</td>\n",
       "      <td>1</td>\n",
       "      <td>88.6</td>\n",
       "      <td>168.8</td>\n",
       "      <td>64.1</td>\n",
       "      <td>...</td>\n",
       "      <td>130</td>\n",
       "      <td>mpfi</td>\n",
       "      <td>3.47</td>\n",
       "      <td>2.68</td>\n",
       "      <td>9.0</td>\n",
       "      <td>111</td>\n",
       "      <td>5000</td>\n",
       "      <td>21</td>\n",
       "      <td>27</td>\n",
       "      <td>16500.0</td>\n",
       "    </tr>\n",
       "    <tr>\n",
       "      <th>2</th>\n",
       "      <td>1</td>\n",
       "      <td>2</td>\n",
       "      <td>1</td>\n",
       "      <td>2</td>\n",
       "      <td>hatchback</td>\n",
       "      <td>1</td>\n",
       "      <td>1</td>\n",
       "      <td>94.5</td>\n",
       "      <td>171.2</td>\n",
       "      <td>65.5</td>\n",
       "      <td>...</td>\n",
       "      <td>152</td>\n",
       "      <td>mpfi</td>\n",
       "      <td>2.68</td>\n",
       "      <td>3.47</td>\n",
       "      <td>9.0</td>\n",
       "      <td>154</td>\n",
       "      <td>5000</td>\n",
       "      <td>19</td>\n",
       "      <td>26</td>\n",
       "      <td>16500.0</td>\n",
       "    </tr>\n",
       "    <tr>\n",
       "      <th>3</th>\n",
       "      <td>2</td>\n",
       "      <td>2</td>\n",
       "      <td>1</td>\n",
       "      <td>4</td>\n",
       "      <td>sedan</td>\n",
       "      <td>2</td>\n",
       "      <td>1</td>\n",
       "      <td>99.8</td>\n",
       "      <td>176.6</td>\n",
       "      <td>66.2</td>\n",
       "      <td>...</td>\n",
       "      <td>109</td>\n",
       "      <td>mpfi</td>\n",
       "      <td>3.19</td>\n",
       "      <td>3.40</td>\n",
       "      <td>10.0</td>\n",
       "      <td>102</td>\n",
       "      <td>5500</td>\n",
       "      <td>24</td>\n",
       "      <td>30</td>\n",
       "      <td>13950.0</td>\n",
       "    </tr>\n",
       "    <tr>\n",
       "      <th>4</th>\n",
       "      <td>2</td>\n",
       "      <td>2</td>\n",
       "      <td>1</td>\n",
       "      <td>4</td>\n",
       "      <td>sedan</td>\n",
       "      <td>3</td>\n",
       "      <td>1</td>\n",
       "      <td>99.4</td>\n",
       "      <td>176.6</td>\n",
       "      <td>66.4</td>\n",
       "      <td>...</td>\n",
       "      <td>136</td>\n",
       "      <td>mpfi</td>\n",
       "      <td>3.19</td>\n",
       "      <td>3.40</td>\n",
       "      <td>8.0</td>\n",
       "      <td>115</td>\n",
       "      <td>5500</td>\n",
       "      <td>18</td>\n",
       "      <td>22</td>\n",
       "      <td>17450.0</td>\n",
       "    </tr>\n",
       "  </tbody>\n",
       "</table>\n",
       "<p>5 rows × 24 columns</p>\n",
       "</div>"
      ],
      "text/plain": [
       "   symboling  fueltype  aspiration  doornumber      carbody  drivewheel  \\\n",
       "0          3         2           1           2  convertible           1   \n",
       "1          3         2           1           2  convertible           1   \n",
       "2          1         2           1           2    hatchback           1   \n",
       "3          2         2           1           4        sedan           2   \n",
       "4          2         2           1           4        sedan           3   \n",
       "\n",
       "   enginelocation  wheelbase  carlength  carwidth  ...  enginesize  \\\n",
       "0               1       88.6      168.8      64.1  ...         130   \n",
       "1               1       88.6      168.8      64.1  ...         130   \n",
       "2               1       94.5      171.2      65.5  ...         152   \n",
       "3               1       99.8      176.6      66.2  ...         109   \n",
       "4               1       99.4      176.6      66.4  ...         136   \n",
       "\n",
       "   fuelsystem boreratio  stroke  compressionratio horsepower  peakrpm  \\\n",
       "0        mpfi      3.47    2.68               9.0        111     5000   \n",
       "1        mpfi      3.47    2.68               9.0        111     5000   \n",
       "2        mpfi      2.68    3.47               9.0        154     5000   \n",
       "3        mpfi      3.19    3.40              10.0        102     5500   \n",
       "4        mpfi      3.19    3.40               8.0        115     5500   \n",
       "\n",
       "   citympg  highwaympg    price  \n",
       "0       21          27  13495.0  \n",
       "1       21          27  16500.0  \n",
       "2       19          26  16500.0  \n",
       "3       24          30  13950.0  \n",
       "4       18          22  17450.0  \n",
       "\n",
       "[5 rows x 24 columns]"
      ]
     },
     "execution_count": 17,
     "metadata": {},
     "output_type": "execute_result"
    }
   ],
   "source": [
    "data.head()"
   ]
  },
  {
   "cell_type": "code",
   "execution_count": 18,
   "id": "2be45ccf",
   "metadata": {},
   "outputs": [],
   "source": [
    "lr=LabelEncoder()"
   ]
  },
  {
   "cell_type": "code",
   "execution_count": 19,
   "id": "a364ae8a",
   "metadata": {},
   "outputs": [],
   "source": [
    "data['carbody']=lr.fit_transform(data['carbody'])\n",
    "data['fuelsystem']=lr.fit_transform(data['fuelsystem'])\n",
    "data['enginetype']=lr.fit_transform(data['enginetype'])"
   ]
  },
  {
   "cell_type": "code",
   "execution_count": 20,
   "id": "4a7cd1c1",
   "metadata": {},
   "outputs": [
    {
     "data": {
      "text/html": [
       "<div>\n",
       "<style scoped>\n",
       "    .dataframe tbody tr th:only-of-type {\n",
       "        vertical-align: middle;\n",
       "    }\n",
       "\n",
       "    .dataframe tbody tr th {\n",
       "        vertical-align: top;\n",
       "    }\n",
       "\n",
       "    .dataframe thead th {\n",
       "        text-align: right;\n",
       "    }\n",
       "</style>\n",
       "<table border=\"1\" class=\"dataframe\">\n",
       "  <thead>\n",
       "    <tr style=\"text-align: right;\">\n",
       "      <th></th>\n",
       "      <th>symboling</th>\n",
       "      <th>fueltype</th>\n",
       "      <th>aspiration</th>\n",
       "      <th>doornumber</th>\n",
       "      <th>carbody</th>\n",
       "      <th>drivewheel</th>\n",
       "      <th>enginelocation</th>\n",
       "      <th>wheelbase</th>\n",
       "      <th>carlength</th>\n",
       "      <th>carwidth</th>\n",
       "      <th>...</th>\n",
       "      <th>enginesize</th>\n",
       "      <th>fuelsystem</th>\n",
       "      <th>boreratio</th>\n",
       "      <th>stroke</th>\n",
       "      <th>compressionratio</th>\n",
       "      <th>horsepower</th>\n",
       "      <th>peakrpm</th>\n",
       "      <th>citympg</th>\n",
       "      <th>highwaympg</th>\n",
       "      <th>price</th>\n",
       "    </tr>\n",
       "  </thead>\n",
       "  <tbody>\n",
       "    <tr>\n",
       "      <th>0</th>\n",
       "      <td>3</td>\n",
       "      <td>2</td>\n",
       "      <td>1</td>\n",
       "      <td>2</td>\n",
       "      <td>0</td>\n",
       "      <td>1</td>\n",
       "      <td>1</td>\n",
       "      <td>88.6</td>\n",
       "      <td>168.8</td>\n",
       "      <td>64.1</td>\n",
       "      <td>...</td>\n",
       "      <td>130</td>\n",
       "      <td>5</td>\n",
       "      <td>3.47</td>\n",
       "      <td>2.68</td>\n",
       "      <td>9.0</td>\n",
       "      <td>111</td>\n",
       "      <td>5000</td>\n",
       "      <td>21</td>\n",
       "      <td>27</td>\n",
       "      <td>13495.0</td>\n",
       "    </tr>\n",
       "    <tr>\n",
       "      <th>1</th>\n",
       "      <td>3</td>\n",
       "      <td>2</td>\n",
       "      <td>1</td>\n",
       "      <td>2</td>\n",
       "      <td>0</td>\n",
       "      <td>1</td>\n",
       "      <td>1</td>\n",
       "      <td>88.6</td>\n",
       "      <td>168.8</td>\n",
       "      <td>64.1</td>\n",
       "      <td>...</td>\n",
       "      <td>130</td>\n",
       "      <td>5</td>\n",
       "      <td>3.47</td>\n",
       "      <td>2.68</td>\n",
       "      <td>9.0</td>\n",
       "      <td>111</td>\n",
       "      <td>5000</td>\n",
       "      <td>21</td>\n",
       "      <td>27</td>\n",
       "      <td>16500.0</td>\n",
       "    </tr>\n",
       "    <tr>\n",
       "      <th>2</th>\n",
       "      <td>1</td>\n",
       "      <td>2</td>\n",
       "      <td>1</td>\n",
       "      <td>2</td>\n",
       "      <td>2</td>\n",
       "      <td>1</td>\n",
       "      <td>1</td>\n",
       "      <td>94.5</td>\n",
       "      <td>171.2</td>\n",
       "      <td>65.5</td>\n",
       "      <td>...</td>\n",
       "      <td>152</td>\n",
       "      <td>5</td>\n",
       "      <td>2.68</td>\n",
       "      <td>3.47</td>\n",
       "      <td>9.0</td>\n",
       "      <td>154</td>\n",
       "      <td>5000</td>\n",
       "      <td>19</td>\n",
       "      <td>26</td>\n",
       "      <td>16500.0</td>\n",
       "    </tr>\n",
       "    <tr>\n",
       "      <th>3</th>\n",
       "      <td>2</td>\n",
       "      <td>2</td>\n",
       "      <td>1</td>\n",
       "      <td>4</td>\n",
       "      <td>3</td>\n",
       "      <td>2</td>\n",
       "      <td>1</td>\n",
       "      <td>99.8</td>\n",
       "      <td>176.6</td>\n",
       "      <td>66.2</td>\n",
       "      <td>...</td>\n",
       "      <td>109</td>\n",
       "      <td>5</td>\n",
       "      <td>3.19</td>\n",
       "      <td>3.40</td>\n",
       "      <td>10.0</td>\n",
       "      <td>102</td>\n",
       "      <td>5500</td>\n",
       "      <td>24</td>\n",
       "      <td>30</td>\n",
       "      <td>13950.0</td>\n",
       "    </tr>\n",
       "    <tr>\n",
       "      <th>4</th>\n",
       "      <td>2</td>\n",
       "      <td>2</td>\n",
       "      <td>1</td>\n",
       "      <td>4</td>\n",
       "      <td>3</td>\n",
       "      <td>3</td>\n",
       "      <td>1</td>\n",
       "      <td>99.4</td>\n",
       "      <td>176.6</td>\n",
       "      <td>66.4</td>\n",
       "      <td>...</td>\n",
       "      <td>136</td>\n",
       "      <td>5</td>\n",
       "      <td>3.19</td>\n",
       "      <td>3.40</td>\n",
       "      <td>8.0</td>\n",
       "      <td>115</td>\n",
       "      <td>5500</td>\n",
       "      <td>18</td>\n",
       "      <td>22</td>\n",
       "      <td>17450.0</td>\n",
       "    </tr>\n",
       "    <tr>\n",
       "      <th>...</th>\n",
       "      <td>...</td>\n",
       "      <td>...</td>\n",
       "      <td>...</td>\n",
       "      <td>...</td>\n",
       "      <td>...</td>\n",
       "      <td>...</td>\n",
       "      <td>...</td>\n",
       "      <td>...</td>\n",
       "      <td>...</td>\n",
       "      <td>...</td>\n",
       "      <td>...</td>\n",
       "      <td>...</td>\n",
       "      <td>...</td>\n",
       "      <td>...</td>\n",
       "      <td>...</td>\n",
       "      <td>...</td>\n",
       "      <td>...</td>\n",
       "      <td>...</td>\n",
       "      <td>...</td>\n",
       "      <td>...</td>\n",
       "      <td>...</td>\n",
       "    </tr>\n",
       "    <tr>\n",
       "      <th>200</th>\n",
       "      <td>-1</td>\n",
       "      <td>2</td>\n",
       "      <td>1</td>\n",
       "      <td>4</td>\n",
       "      <td>3</td>\n",
       "      <td>1</td>\n",
       "      <td>1</td>\n",
       "      <td>109.1</td>\n",
       "      <td>188.8</td>\n",
       "      <td>68.9</td>\n",
       "      <td>...</td>\n",
       "      <td>141</td>\n",
       "      <td>5</td>\n",
       "      <td>3.78</td>\n",
       "      <td>3.15</td>\n",
       "      <td>9.5</td>\n",
       "      <td>114</td>\n",
       "      <td>5400</td>\n",
       "      <td>23</td>\n",
       "      <td>28</td>\n",
       "      <td>16845.0</td>\n",
       "    </tr>\n",
       "    <tr>\n",
       "      <th>201</th>\n",
       "      <td>-1</td>\n",
       "      <td>2</td>\n",
       "      <td>2</td>\n",
       "      <td>4</td>\n",
       "      <td>3</td>\n",
       "      <td>1</td>\n",
       "      <td>1</td>\n",
       "      <td>109.1</td>\n",
       "      <td>188.8</td>\n",
       "      <td>68.8</td>\n",
       "      <td>...</td>\n",
       "      <td>141</td>\n",
       "      <td>5</td>\n",
       "      <td>3.78</td>\n",
       "      <td>3.15</td>\n",
       "      <td>8.7</td>\n",
       "      <td>160</td>\n",
       "      <td>5300</td>\n",
       "      <td>19</td>\n",
       "      <td>25</td>\n",
       "      <td>19045.0</td>\n",
       "    </tr>\n",
       "    <tr>\n",
       "      <th>202</th>\n",
       "      <td>-1</td>\n",
       "      <td>2</td>\n",
       "      <td>1</td>\n",
       "      <td>4</td>\n",
       "      <td>3</td>\n",
       "      <td>1</td>\n",
       "      <td>1</td>\n",
       "      <td>109.1</td>\n",
       "      <td>188.8</td>\n",
       "      <td>68.9</td>\n",
       "      <td>...</td>\n",
       "      <td>173</td>\n",
       "      <td>5</td>\n",
       "      <td>3.58</td>\n",
       "      <td>2.87</td>\n",
       "      <td>8.8</td>\n",
       "      <td>134</td>\n",
       "      <td>5500</td>\n",
       "      <td>18</td>\n",
       "      <td>23</td>\n",
       "      <td>21485.0</td>\n",
       "    </tr>\n",
       "    <tr>\n",
       "      <th>203</th>\n",
       "      <td>-1</td>\n",
       "      <td>1</td>\n",
       "      <td>2</td>\n",
       "      <td>4</td>\n",
       "      <td>3</td>\n",
       "      <td>1</td>\n",
       "      <td>1</td>\n",
       "      <td>109.1</td>\n",
       "      <td>188.8</td>\n",
       "      <td>68.9</td>\n",
       "      <td>...</td>\n",
       "      <td>145</td>\n",
       "      <td>3</td>\n",
       "      <td>3.01</td>\n",
       "      <td>3.40</td>\n",
       "      <td>23.0</td>\n",
       "      <td>106</td>\n",
       "      <td>4800</td>\n",
       "      <td>26</td>\n",
       "      <td>27</td>\n",
       "      <td>22470.0</td>\n",
       "    </tr>\n",
       "    <tr>\n",
       "      <th>204</th>\n",
       "      <td>-1</td>\n",
       "      <td>2</td>\n",
       "      <td>2</td>\n",
       "      <td>4</td>\n",
       "      <td>3</td>\n",
       "      <td>1</td>\n",
       "      <td>1</td>\n",
       "      <td>109.1</td>\n",
       "      <td>188.8</td>\n",
       "      <td>68.9</td>\n",
       "      <td>...</td>\n",
       "      <td>141</td>\n",
       "      <td>5</td>\n",
       "      <td>3.78</td>\n",
       "      <td>3.15</td>\n",
       "      <td>9.5</td>\n",
       "      <td>114</td>\n",
       "      <td>5400</td>\n",
       "      <td>19</td>\n",
       "      <td>25</td>\n",
       "      <td>22625.0</td>\n",
       "    </tr>\n",
       "  </tbody>\n",
       "</table>\n",
       "<p>205 rows × 24 columns</p>\n",
       "</div>"
      ],
      "text/plain": [
       "     symboling  fueltype  aspiration  doornumber  carbody  drivewheel  \\\n",
       "0            3         2           1           2        0           1   \n",
       "1            3         2           1           2        0           1   \n",
       "2            1         2           1           2        2           1   \n",
       "3            2         2           1           4        3           2   \n",
       "4            2         2           1           4        3           3   \n",
       "..         ...       ...         ...         ...      ...         ...   \n",
       "200         -1         2           1           4        3           1   \n",
       "201         -1         2           2           4        3           1   \n",
       "202         -1         2           1           4        3           1   \n",
       "203         -1         1           2           4        3           1   \n",
       "204         -1         2           2           4        3           1   \n",
       "\n",
       "     enginelocation  wheelbase  carlength  carwidth  ...  enginesize  \\\n",
       "0                 1       88.6      168.8      64.1  ...         130   \n",
       "1                 1       88.6      168.8      64.1  ...         130   \n",
       "2                 1       94.5      171.2      65.5  ...         152   \n",
       "3                 1       99.8      176.6      66.2  ...         109   \n",
       "4                 1       99.4      176.6      66.4  ...         136   \n",
       "..              ...        ...        ...       ...  ...         ...   \n",
       "200               1      109.1      188.8      68.9  ...         141   \n",
       "201               1      109.1      188.8      68.8  ...         141   \n",
       "202               1      109.1      188.8      68.9  ...         173   \n",
       "203               1      109.1      188.8      68.9  ...         145   \n",
       "204               1      109.1      188.8      68.9  ...         141   \n",
       "\n",
       "     fuelsystem  boreratio  stroke  compressionratio  horsepower  peakrpm  \\\n",
       "0             5       3.47    2.68               9.0         111     5000   \n",
       "1             5       3.47    2.68               9.0         111     5000   \n",
       "2             5       2.68    3.47               9.0         154     5000   \n",
       "3             5       3.19    3.40              10.0         102     5500   \n",
       "4             5       3.19    3.40               8.0         115     5500   \n",
       "..          ...        ...     ...               ...         ...      ...   \n",
       "200           5       3.78    3.15               9.5         114     5400   \n",
       "201           5       3.78    3.15               8.7         160     5300   \n",
       "202           5       3.58    2.87               8.8         134     5500   \n",
       "203           3       3.01    3.40              23.0         106     4800   \n",
       "204           5       3.78    3.15               9.5         114     5400   \n",
       "\n",
       "     citympg  highwaympg    price  \n",
       "0         21          27  13495.0  \n",
       "1         21          27  16500.0  \n",
       "2         19          26  16500.0  \n",
       "3         24          30  13950.0  \n",
       "4         18          22  17450.0  \n",
       "..       ...         ...      ...  \n",
       "200       23          28  16845.0  \n",
       "201       19          25  19045.0  \n",
       "202       18          23  21485.0  \n",
       "203       26          27  22470.0  \n",
       "204       19          25  22625.0  \n",
       "\n",
       "[205 rows x 24 columns]"
      ]
     },
     "execution_count": 20,
     "metadata": {},
     "output_type": "execute_result"
    }
   ],
   "source": [
    "data "
   ]
  },
  {
   "cell_type": "code",
   "execution_count": 21,
   "id": "6170f372",
   "metadata": {},
   "outputs": [
    {
     "data": {
      "text/plain": [
       "symboling             int64\n",
       "fueltype              int64\n",
       "aspiration            int64\n",
       "doornumber            int64\n",
       "carbody               int32\n",
       "drivewheel            int64\n",
       "enginelocation        int64\n",
       "wheelbase           float64\n",
       "carlength           float64\n",
       "carwidth            float64\n",
       "carheight           float64\n",
       "curbweight            int64\n",
       "enginetype            int32\n",
       "cylindernumber        int64\n",
       "enginesize            int64\n",
       "fuelsystem            int32\n",
       "boreratio           float64\n",
       "stroke              float64\n",
       "compressionratio    float64\n",
       "horsepower            int64\n",
       "peakrpm               int64\n",
       "citympg               int64\n",
       "highwaympg            int64\n",
       "price               float64\n",
       "dtype: object"
      ]
     },
     "execution_count": 21,
     "metadata": {},
     "output_type": "execute_result"
    }
   ],
   "source": [
    "data.dtypes"
   ]
  },
  {
   "cell_type": "code",
   "execution_count": 22,
   "id": "31610c0a",
   "metadata": {},
   "outputs": [
    {
     "data": {
      "image/png": "[encoded data removed]",
      "text/plain": [
       "<Figure size 1200x1000 with 2 Axes>"
      ]
     },
     "metadata": {},
     "output_type": "display_data"
    }
   ],
   "source": [
    "# Correlation heatmap\n",
    "\n",
    "plt.figure(figsize=(12, 10))\n",
    "corr_matrix = data.corr()\n",
    "sns.heatmap(corr_matrix, annot=True, cmap='coolwarm', linewidths=0.5)\n",
    "plt.title('Correlation Matrix')\n",
    "plt.show()"
   ]
  },
  {
   "cell_type": "code",
   "execution_count": 23,
   "id": "4e899d13",
   "metadata": {},
   "outputs": [],
   "source": [
    "X=data.iloc[:,:-1]"
   ]
  },
  {
   "cell_type": "code",
   "execution_count": 24,
   "id": "222dc8aa",
   "metadata": {},
   "outputs": [],
   "source": [
    "y=data.iloc[:,-1]"
   ]
  },
  {
   "cell_type": "markdown",
   "id": "eb679e3b",
   "metadata": {},
   "source": [
    "<p style=\"font-family: 'Georgia', serif; font-size: 3rem; color: #8b0000; text-align: center; margin: 0; text-shadow: 2px 2px 4px rgba(0, 0, 0, 0.3); background-color: #f5deb3; padding: 20px; border-radius: 20px; border: 7px solid #b8860b; width: 95%;\">\n",
    "    <span style=\"font-weight: bold; color: #8b0000; animation: pulse 2s infinite;\">Step 6:</span>\n",
    "    <span style=\"font-weight: bold; font-style: italic; color: #556b2f; animation: pulse 2s infinite;\">Spliting</span>\n",
    "    <span style=\"font-weight: bold; color: #b8860b;\"></span>\n",
    "</p>\n"
   ]
  },
  {
   "cell_type": "code",
   "execution_count": 25,
   "id": "273250de",
   "metadata": {},
   "outputs": [],
   "source": [
    "X_train,X_test,y_train,y_test=train_test_split(X,y,test_size=0.3,random_state=100)"
   ]
  },
  {
   "cell_type": "code",
   "execution_count": 26,
   "id": "f9282449",
   "metadata": {},
   "outputs": [
    {
     "data": {
      "text/plain": [
       "(143, 23)"
      ]
     },
     "execution_count": 26,
     "metadata": {},
     "output_type": "execute_result"
    }
   ],
   "source": [
    "X_train.shape"
   ]
  },
  {
   "cell_type": "code",
   "execution_count": 27,
   "id": "8d17ce57",
   "metadata": {},
   "outputs": [
    {
     "data": {
      "text/plain": [
       "(62,)"
      ]
     },
     "execution_count": 27,
     "metadata": {},
     "output_type": "execute_result"
    }
   ],
   "source": [
    "y_test.shape"
   ]
  },
  {
   "cell_type": "markdown",
   "id": "c9900379",
   "metadata": {},
   "source": [
    "<p style=\"font-family: 'Georgia', serif; font-size: 3rem; color: #8b0000; text-align: center; margin: 0; text-shadow: 2px 2px 4px rgba(0, 0, 0, 0.3); background-color: #f5deb3; padding: 20px; border-radius: 20px; border: 7px solid #b8860b; width: 95%;\">\n",
    "    <span style=\"font-weight: bold; color: #8b0000; animation: pulse 2s infinite;\">Step 7:</span>\n",
    "    <span style=\"font-weight: bold; font-style: italic; color: #556b2f; animation: pulse 2s infinite;\">Model Training</span>\n",
    "    <span style=\"font-weight: bold; color: #b8860b;\"></span>\n",
    "</p>\n"
   ]
  },
  {
   "cell_type": "markdown",
   "id": "7b7bf656",
   "metadata": {},
   "source": [
    "<p style=\"font-family: 'Georgia', serif; font-size: 3rem; color: #8b0000; text-align: center; margin: 0; text-shadow: 2px 2px 4px rgba(0, 0, 0, 0.3); background-color: #f5deb3; padding: 20px; border-radius: 20px; border: 7px solid #b8860b; width: 95%;\">\n",
    "    <span style=\"font-weight: bold; color: #8b0000; animation: pulse 2s infinite;\">Step 7.1:</span>\n",
    "    <span style=\"font-weight: bold; font-style: italic; color: #556b2f; animation: pulse 2s infinite;\">Linear Regression</span>\n",
    "    <span style=\"font-weight: bold; color: #b8860b;\"></span>\n",
    "</p>\n"
   ]
  },
  {
   "cell_type": "code",
   "execution_count": 28,
   "id": "baa41ba2",
   "metadata": {},
   "outputs": [],
   "source": [
    "LR=LinearRegression()"
   ]
  },
  {
   "cell_type": "code",
   "execution_count": 29,
   "id": "3707b5cf",
   "metadata": {},
   "outputs": [],
   "source": [
    "LR.fit(X_train,y_train)\n",
    "y_pred=LR.predict(X_test)"
   ]
  },
  {
   "cell_type": "markdown",
   "id": "c4a0d154",
   "metadata": {},
   "source": [
    "<p style=\"font-family: 'Georgia', serif; font-size: 3rem; color: #8b0000; text-align: center; margin: 0; text-shadow: 2px 2px 4px rgba(0, 0, 0, 0.3); background-color: #f5deb3; padding: 20px; border-radius: 20px; border: 7px solid #b8860b; width: 95%;\">\n",
    "    <span style=\"font-weight: bold; color: #8b0000; animation: pulse 2s infinite;\">Step 7.2:</span>\n",
    "    <span style=\"font-weight: bold; font-style: italic; color: #556b2f; animation: pulse 2s infinite;\">Hyperparameter Tuning for Ridge Regression</span>\n",
    "    <span style=\"font-weight: bold; color: #b8860b;\"></span>\n",
    "</p>\n"
   ]
  },
  {
   "cell_type": "code",
   "execution_count": 30,
   "id": "f2b68469",
   "metadata": {},
   "outputs": [
    {
     "name": "stdout",
     "output_type": "stream",
     "text": [
      "Best parameters for Ridge Regression:  {'alpha': 100}\n",
      "Best R2 score for Ridge Regression:  0.7819736663620669\n"
     ]
    }
   ],
   "source": [
    "ridge = Ridge()\n",
    "param_grid_ridge = {'alpha': [0.01, 0.1, 1, 10, 100]}\n",
    "grid_search_ridge = GridSearchCV(estimator=ridge, param_grid=param_grid_ridge, cv=5, scoring='r2')\n",
    "grid_search_ridge.fit(X_train, y_train)\n",
    "best_ridge_model = grid_search_ridge.best_estimator_\n",
    "print(\"Best parameters for Ridge Regression: \", grid_search_ridge.best_params_)\n",
    "print(\"Best R2 score for Ridge Regression: \", grid_search_ridge.best_score_)\n"
   ]
  },
  {
   "cell_type": "markdown",
   "id": "671bc9e4",
   "metadata": {},
   "source": [
    "<p style=\"font-family: 'Georgia', serif; font-size: 3rem; color: #8b0000; text-align: center; margin: 0; text-shadow: 2px 2px 4px rgba(0, 0, 0, 0.3); background-color: #f5deb3; padding: 20px; border-radius: 20px; border: 7px solid #b8860b; width: 95%;\">\n",
    "    <span style=\"font-weight: bold; color: #8b0000; animation: pulse 2s infinite;\">Step 7.3:</span>\n",
    "    <span style=\"font-weight: bold; font-style: italic; color: #556b2f; animation: pulse 2s infinite;\">Hyperparameter Tuning for Lasso Regression</span>\n",
    "    <span style=\"font-weight: bold; color: #b8860b;\"></span>\n",
    "</p>\n"
   ]
  },
  {
   "cell_type": "code",
   "execution_count": 31,
   "id": "fac4aa95",
   "metadata": {},
   "outputs": [
    {
     "name": "stdout",
     "output_type": "stream",
     "text": [
      "Best parameters for Lasso Regression:  {'alpha': 10}\n",
      "Best R2 score for Lasso Regression:  0.7760356589707816\n"
     ]
    }
   ],
   "source": [
    "\n",
    "lasso = Lasso()\n",
    "param_grid_lasso = {'alpha': [0.01, 0.1, 1, 10, 100]}\n",
    "grid_search_lasso = GridSearchCV(estimator=lasso, param_grid=param_grid_lasso, cv=5, scoring='r2')\n",
    "grid_search_lasso.fit(X_train, y_train)\n",
    "best_lasso_model = grid_search_lasso.best_estimator_\n",
    "print(\"Best parameters for Lasso Regression: \", grid_search_lasso.best_params_)\n",
    "print(\"Best R2 score for Lasso Regression: \", grid_search_lasso.best_score_)\n"
   ]
  },
  {
   "cell_type": "markdown",
   "id": "ae16a48a",
   "metadata": {},
   "source": [
    "<p style=\"font-family: 'Georgia', serif; font-size: 3rem; color: #8b0000; text-align: center; margin: 0; text-shadow: 2px 2px 4px rgba(0, 0, 0, 0.3); background-color: #f5deb3; padding: 20px; border-radius: 20px; border: 7px solid #b8860b; width: 95%;\">\n",
    "    <span style=\"font-weight: bold; color: #8b0000; animation: pulse 2s infinite;\">Step 7.4:</span>\n",
    "    <span style=\"font-weight: bold; font-style: italic; color: #556b2f; animation: pulse 2s infinite;\">Hyperparameter Tuning for Elastic Net</span>\n",
    "    <span style=\"font-weight: bold; color: #b8860b;\"></span>\n",
    "</p>\n"
   ]
  },
  {
   "cell_type": "code",
   "execution_count": 32,
   "id": "1743138e",
   "metadata": {},
   "outputs": [
    {
     "name": "stdout",
     "output_type": "stream",
     "text": [
      "Best parameters for Elastic Net:  {'alpha': 10, 'l1_ratio': 0.1}\n",
      "Best R2 score for Elastic Net:  0.7910725320905022\n"
     ]
    }
   ],
   "source": [
    "elastic_net = ElasticNet()\n",
    "param_grid_enet = {\n",
    "    'alpha': [0.01, 0.1, 1, 10, 100],\n",
    "    'l1_ratio': [0.1, 0.3, 0.5, 0.7, 0.9]\n",
    "}\n",
    "grid_search_enet = GridSearchCV(estimator=elastic_net, param_grid=param_grid_enet, cv=5, scoring='r2')\n",
    "grid_search_enet.fit(X_train, y_train)\n",
    "best_enet_model = grid_search_enet.best_estimator_\n",
    "print(\"Best parameters for Elastic Net: \", grid_search_enet.best_params_)\n",
    "print(\"Best R2 score for Elastic Net: \", grid_search_enet.best_score_)\n"
   ]
  },
  {
   "cell_type": "markdown",
   "id": "85fc77a1",
   "metadata": {},
   "source": [
    "<p style=\"font-family: 'Georgia', serif; font-size: 3rem; color: #8b0000; text-align: center; margin: 0; text-shadow: 2px 2px 4px rgba(0, 0, 0, 0.3); background-color: #f5deb3; padding: 20px; border-radius: 20px; border: 7px solid #b8860b; width: 95%;\">\n",
    "    <span style=\"font-weight: bold; color: #8b0000; animation: pulse 2s infinite;\">Step 7.5:</span>\n",
    "    <span style=\"font-weight: bold; font-style: italic; color: #556b2f; animation: pulse 2s infinite;\"> Training the final Elastic Net model with best parameters</span>\n",
    "    <span style=\"font-weight: bold; color: #b8860b;\"></span>\n",
    "</p>\n"
   ]
  },
  {
   "cell_type": "code",
   "execution_count": 33,
   "id": "0c0e8e2f",
   "metadata": {},
   "outputs": [
    {
     "data": {
      "text/html": [
       "<style>#sk-container-id-1 {color: black;background-color: white;}#sk-container-id-1 pre{padding: 0;}#sk-container-id-1 div.sk-toggleable {background-color: white;}#sk-container-id-1 label.sk-toggleable__label {cursor: pointer;display: block;width: 100%;margin-bottom: 0;padding: 0.3em;box-sizing: border-box;text-align: center;}#sk-container-id-1 label.sk-toggleable__label-arrow:before {content: \"▸\";float: left;margin-right: 0.25em;color: #696969;}#sk-container-id-1 label.sk-toggleable__label-arrow:hover:before {color: black;}#sk-container-id-1 div.sk-estimator:hover label.sk-toggleable__label-arrow:before {color: black;}#sk-container-id-1 div.sk-toggleable__content {max-height: 0;max-width: 0;overflow: hidden;text-align: left;background-color: #f0f8ff;}#sk-container-id-1 div.sk-toggleable__content pre {margin: 0.2em;color: black;border-radius: 0.25em;background-color: #f0f8ff;}#sk-container-id-1 input.sk-toggleable__control:checked~div.sk-toggleable__content {max-height: 200px;max-width: 100%;overflow: auto;}#sk-container-id-1 input.sk-toggleable__control:checked~label.sk-toggleable__label-arrow:before {content: \"▾\";}#sk-container-id-1 div.sk-estimator input.sk-toggleable__control:checked~label.sk-toggleable__label {background-color: #d4ebff;}#sk-container-id-1 div.sk-label input.sk-toggleable__control:checked~label.sk-toggleable__label {background-color: #d4ebff;}#sk-container-id-1 input.sk-hidden--visually {border: 0;clip: rect(1px 1px 1px 1px);clip: rect(1px, 1px, 1px, 1px);height: 1px;margin: -1px;overflow: hidden;padding: 0;position: absolute;width: 1px;}#sk-container-id-1 div.sk-estimator {font-family: monospace;background-color: #f0f8ff;border: 1px dotted black;border-radius: 0.25em;box-sizing: border-box;margin-bottom: 0.5em;}#sk-container-id-1 div.sk-estimator:hover {background-color: #d4ebff;}#sk-container-id-1 div.sk-parallel-item::after {content: \"\";width: 100%;border-bottom: 1px solid gray;flex-grow: 1;}#sk-container-id-1 div.sk-label:hover label.sk-toggleable__label {background-color: #d4ebff;}#sk-container-id-1 div.sk-serial::before {content: \"\";position: absolute;border-left: 1px solid gray;box-sizing: border-box;top: 0;bottom: 0;left: 50%;z-index: 0;}#sk-container-id-1 div.sk-serial {display: flex;flex-direction: column;align-items: center;background-color: white;padding-right: 0.2em;padding-left: 0.2em;position: relative;}#sk-container-id-1 div.sk-item {position: relative;z-index: 1;}#sk-container-id-1 div.sk-parallel {display: flex;align-items: stretch;justify-content: center;background-color: white;position: relative;}#sk-container-id-1 div.sk-item::before, #sk-container-id-1 div.sk-parallel-item::before {content: \"\";position: absolute;border-left: 1px solid gray;box-sizing: border-box;top: 0;bottom: 0;left: 50%;z-index: -1;}#sk-container-id-1 div.sk-parallel-item {display: flex;flex-direction: column;z-index: 1;position: relative;background-color: white;}#sk-container-id-1 div.sk-parallel-item:first-child::after {align-self: flex-end;width: 50%;}#sk-container-id-1 div.sk-parallel-item:last-child::after {align-self: flex-start;width: 50%;}#sk-container-id-1 div.sk-parallel-item:only-child::after {width: 0;}#sk-container-id-1 div.sk-dashed-wrapped {border: 1px dashed gray;margin: 0 0.4em 0.5em 0.4em;box-sizing: border-box;padding-bottom: 0.4em;background-color: white;}#sk-container-id-1 div.sk-label label {font-family: monospace;font-weight: bold;display: inline-block;line-height: 1.2em;}#sk-container-id-1 div.sk-label-container {text-align: center;}#sk-container-id-1 div.sk-container {/* jupyter's `normalize.less` sets `[hidden] { display: none; }` but bootstrap.min.css set `[hidden] { display: none !important; }` so we also need the `!important` here to be able to override the default hidden behavior on the sphinx rendered scikit-learn.org. See: https://github.com/scikit-learn/scikit-learn/issues/21755 */display: inline-block !important;position: relative;}#sk-container-id-1 div.sk-text-repr-fallback {display: none;}</style><div id=\"sk-container-id-1\" class=\"sk-top-container\"><div class=\"sk-text-repr-fallback\"><pre>ElasticNet(alpha=10, l1_ratio=0.1)</pre><b>In a Jupyter environment, please rerun this cell to show the HTML representation or trust the notebook. <br />On GitHub, the HTML representation is unable to render, please try loading this page with nbviewer.org.</b></div><div class=\"sk-container\" hidden><div class=\"sk-item\"><div class=\"sk-estimator sk-toggleable\"><input class=\"sk-toggleable__control sk-hidden--visually\" id=\"sk-estimator-id-1\" type=\"checkbox\" checked><label for=\"sk-estimator-id-1\" class=\"sk-toggleable__label sk-toggleable__label-arrow\">ElasticNet</label><div class=\"sk-toggleable__content\"><pre>ElasticNet(alpha=10, l1_ratio=0.1)</pre></div></div></div></div></div>"
      ],
      "text/plain": [
       "ElasticNet(alpha=10, l1_ratio=0.1)"
      ]
     },
     "execution_count": 33,
     "metadata": {},
     "output_type": "execute_result"
    }
   ],
   "source": [
    "\n",
    "final_elastic_net_model = ElasticNet(alpha=10, l1_ratio=0.1)\n",
    "final_elastic_net_model.fit(X_train, y_train)\n"
   ]
  },
  {
   "cell_type": "markdown",
   "id": "b11c7039",
   "metadata": {},
   "source": [
    "\n",
    "\n",
    "<p style=\"font-family: 'Georgia', serif; font-size: 3rem; color: #8b0000; text-align: center; margin: 0; text-shadow: 2px 2px 4px rgba(0, 0, 0, 0.3); background-color: #f5deb3; padding: 20px; border-radius: 20px; border: 7px solid #b8860b; width: 95%;\">\n",
    "    <span style=\"font-weight: bold; color: #8b0000; animation: pulse 2s infinite;\">Step 8:</span>\n",
    "    <span style=\"font-weight: bold; font-style: italic; color: #556b2f; animation: pulse 2s infinite;\">Model Evaluation</span>\n",
    "    <span style=\"font-weight: bold; color: #b8860b;\"></span>\n",
    "</p>\n"
   ]
  },
  {
   "cell_type": "code",
   "execution_count": 34,
   "id": "f57e1021",
   "metadata": {},
   "outputs": [
    {
     "data": {
      "text/plain": [
       "2241.650719048572"
      ]
     },
     "execution_count": 34,
     "metadata": {},
     "output_type": "execute_result"
    }
   ],
   "source": [
    "mae=mean_absolute_error(y_test,y_pred)\n",
    "mae"
   ]
  },
  {
   "cell_type": "code",
   "execution_count": 35,
   "id": "7dbb321c",
   "metadata": {},
   "outputs": [
    {
     "data": {
      "text/plain": [
       "3146.146543894133"
      ]
     },
     "execution_count": 35,
     "metadata": {},
     "output_type": "execute_result"
    }
   ],
   "source": [
    "# squared for for rmse \n",
    "mse=mean_squared_error(y_test,y_pred,squared=False)\n",
    "mse"
   ]
  },
  {
   "cell_type": "code",
   "execution_count": 36,
   "id": "42c1df78",
   "metadata": {},
   "outputs": [],
   "source": [
    " import math "
   ]
  },
  {
   "cell_type": "code",
   "execution_count": 37,
   "id": "b85df021",
   "metadata": {},
   "outputs": [
    {
     "data": {
      "text/plain": [
       "56.090520980769405"
      ]
     },
     "execution_count": 37,
     "metadata": {},
     "output_type": "execute_result"
    }
   ],
   "source": [
    "Rsq=math.sqrt(mse)\n",
    "Rsq"
   ]
  },
  {
   "cell_type": "code",
   "execution_count": 38,
   "id": "21787ebe",
   "metadata": {},
   "outputs": [
    {
     "data": {
      "text/plain": [
       "0.8586553507420542"
      ]
     },
     "execution_count": 38,
     "metadata": {},
     "output_type": "execute_result"
    }
   ],
   "source": [
    "r2_score(y_test,y_pred)"
   ]
  },
  {
   "cell_type": "code",
   "execution_count": 39,
   "id": "6f00dd35",
   "metadata": {},
   "outputs": [
    {
     "name": "stdout",
     "output_type": "stream",
     "text": [
      "Mean Absolute Error: 2514.3084139548673\n",
      "Mean Squared Error: 13031521.89882206\n",
      "R2 Score: 0.8139127511373802\n"
     ]
    }
   ],
   "source": [
    "# Evaluate the model on the test set [step 7.5]\n",
    "y_pred = final_elastic_net_model.predict(X_test)\n",
    "mae = mean_absolute_error(y_test, y_pred)\n",
    "mse = mean_squared_error(y_test, y_pred)\n",
    "r2 = r2_score(y_test, y_pred)\n",
    "\n",
    "print(f\"Mean Absolute Error: {mae}\")\n",
    "print(f\"Mean Squared Error: {mse}\")\n",
    "print(f\"R2 Score: {r2}\")"
   ]
  },
  {
   "cell_type": "markdown",
   "id": "20486a5c",
   "metadata": {},
   "source": [
    "\n",
    "\n",
    "<p style=\"font-family: 'Georgia', serif; font-size: 3rem; color: #8b0000; text-align: center; margin: 0; text-shadow: 2px 2px 4px rgba(0, 0, 0, 0.3); background-color: #f5deb3; padding: 20px; border-radius: 20px; border: 7px solid #b8860b; width: 95%;\">\n",
    "    <span style=\"font-weight: bold; color: #8b0000; animation: pulse 2s infinite;\">Step 9:</span>\n",
    "    <span style=\"font-weight: bold; font-style: italic; color: #556b2f; animation: pulse 2s infinite;\">Actual vs Predicted Values</span>\n",
    "    <span style=\"font-weight: bold; color: #b8860b;\"></span>\n",
    "</p>\n"
   ]
  },
  {
   "cell_type": "code",
   "execution_count": 40,
   "id": "2721dc88",
   "metadata": {},
   "outputs": [
    {
     "data": {
      "image/png": "[encoded data removed]",
      "text/plain": [
       "<Figure size 1000x600 with 1 Axes>"
      ]
     },
     "metadata": {},
     "output_type": "display_data"
    }
   ],
   "source": [
    "# Scatter Plot with a Line of Best Fit\n",
    "\n",
    "plt.figure(figsize=(10, 6))\n",
    "sns.scatterplot(x=y_test, y=y_pred, alpha=0.6)\n",
    "sns.lineplot(x=[y_test.min(), y_test.max()], y=[y_test.min(), y_test.max()], color='red', linestyle='--')\n",
    "plt.xlabel(\"Actual Values\")\n",
    "plt.ylabel(\"Predicted Values\")\n",
    "plt.title(\"Actual vs Predicted Values with Line of Best Fit\")\n",
    "plt.show()\n",
    "\n",
    "\n"
   ]
  },
  {
   "cell_type": "markdown",
   "id": "aa358cea",
   "metadata": {},
   "source": [
    "The model shows promise! Predicted values generally follow the trend of actuals. However, some data points deviate, suggesting space for improvement."
   ]
  },
  {
   "cell_type": "markdown",
   "id": "5e39a36d",
   "metadata": {},
   "source": [
    "\n",
    "\n",
    "    \n",
    "\n",
    "\n",
    "<p style=\"font-family: 'Georgia', serif; font-size: 3rem; color: #8b0000; text-align: center; margin: 0; text-shadow: 2px 2px 4px rgba(0, 0, 0, 0.3); background-color: #f5deb3; padding: 20px; border-radius: 20px; border: 7px solid #b8860b; width: 95%;\">\n",
    "    <span style=\"font-weight: bold; color: #8b0000; animation: pulse 2s infinite;\">Step 10:</span>\n",
    "    <span style=\"font-weight: bold; font-style: italic; color: #556b2f; animation: pulse 2s infinite;\">Evaluating Model Fit: Overfitting, Underfitting, or Well-Trained?</span>\n",
    "    <span style=\"font-weight: bold; color: #b8860b;\"></span>\n",
    "</p>\n"
   ]
  },
  {
   "cell_type": "code",
   "execution_count": 41,
   "id": "4ee0bef0",
   "metadata": {},
   "outputs": [
    {
     "name": "stdout",
     "output_type": "stream",
     "text": [
      "Training Accuracy: 0.8741926830108556\n",
      "Testing Accuracy: 0.8586553507420542\n"
     ]
    }
   ],
   "source": [
    "print(\"Training Accuracy:\",LR.score(X_train,y_train))\n",
    "\n",
    "print(\"Testing Accuracy:\",LR.score(X_test,y_test))"
   ]
  },
  {
   "cell_type": "markdown",
   "id": "b66305b2",
   "metadata": {},
   "source": [
    "The training accuracy and testing accuracy are very close to each other, with only a small difference (approximately 0.0155 or 1.55%).\n",
    "\n",
    "### Interpretation:\n",
    "- **Overfitting**: Overfitting occurs when the model performs significantly better on the training data than on the testing data. This is not the case here, as the difference in accuracies is small.\n",
    "- **Underfitting**: Underfitting occurs when the model performs poorly on both the training and testing data, indicating it has not learned the underlying patterns well. With both accuracies being relatively high, this is not the case either.\n",
    "- **Well-Trained Model**: Given the small difference between training and testing accuracies and the high values of both, we can conclude that the model is well-trained. It generalizes well to unseen data, indicating a good fit without overfitting or underfitting.\n",
    "\n",
    "Therefore, the Logistic Regression model appears to be well-trained."
   ]
  },
  {
   "cell_type": "code",
   "execution_count": null,
   "id": "911acc16",
   "metadata": {},
   "outputs": [],
   "source": []
  },
  {
   "cell_type": "markdown",
   "id": "8f42455c",
   "metadata": {},
   "source": [
    "\n",
    "# A Guide to Multiple Linear Regression:\n",
    "\n",
    "## Definition:\n",
    "Multiple linear regression is a statistical technique that models the relationship between one dependent variable and two or more independent variables by fitting a linear equation to the observed data. It extends simple linear regression by including multiple predictors.\n",
    "\n",
    "## Equation:\n",
    "The equation of a multiple linear regression line is:\n",
    "\\[ y = b_0 + b_1x_1 + b_2x_2 + ... + b_nx_n \\]\n",
    "\n",
    "where:\n",
    "- \\( y \\) is the dependent variable.\n",
    "- \\( x_1, x_2, ..., x_n \\) are the independent variables.\n",
    "- \\( b_0 \\) is the y-intercept.\n",
    "- \\( b_1, b_2, ..., b_n \\) are the coefficients (slopes) for each independent variable.\n",
    "\n",
    "## Assumptions:\n",
    "1. **Linearity**: The relationship between the dependent variable and each independent variable is linear.\n",
    "2. **Independence**: The observations are independent of each other.\n",
    "3. **Homoscedasticity**: The residuals (errors) have constant variance at every level of \\( x \\).\n",
    "4. **Normality**: The residuals of the model are normally distributed.\n",
    "5. **Multicollinearity**: The independent variables are not too highly correlated with each other.\n",
    "\n",
    "## Purpose:\n",
    "- To predict the value of the dependent variable based on the values of multiple independent variables.\n",
    "- To understand the relationship and relative importance of each independent variable on the dependent variable.\n",
    "\n",
    "## Interpretation of Coefficients:\n",
    "- **Intercept (\\( b_0 \\))**: The expected value of \\( y \\) when all \\( x \\) variables are zero.\n",
    "- **Slope (\\( b_i \\))**: The change in \\( y \\) for a one-unit change in \\( x_i \\), holding all other predictors constant. A positive slope indicates a positive relationship, while a negative slope indicates a negative relationship.\n",
    "\n",
    "## Evaluation:\n",
    "The performance of a multiple linear regression model is typically evaluated using metrics such as:\n",
    "- **Mean Squared Error (MSE)**\n",
    "- **Root Mean Squared Error (RMSE)**\n",
    "- **Mean Absolute Error (MAE)**\n",
    "- **R² Score**: Represents the proportion of the variance in the dependent variable that is predictable from the independent variables.\n",
    "\n",
    "## Applications:\n",
    "Multiple linear regression is widely used in various fields such as economics, finance, biology, engineering, and social sciences to make predictions, understand relationships, and identify trends.\n",
    "\n",
    "## Advantages:\n",
    "- Can handle multiple predictors to provide a more comprehensive model.\n",
    "- Helps to understand the impact of each predictor on the dependent variable.\n",
    "\n",
    "## Limitations:\n",
    "- Only models linear relationships; cannot capture complex, non-linear relationships.\n",
    "- Sensitive to outliers, which can disproportionately affect the regression line.\n",
    "- Multicollinearity can make it difficult to determine the individual effect of each predictor.\n",
    "\n",
    "Multiple linear regression is a powerful and widely used tool in statistical analysis and machine learning, allowing for more complex and informative models than simple linear regression.\n"
   ]
  },
  {
   "cell_type": "code",
   "execution_count": null,
   "id": "cb56559b",
   "metadata": {},
   "outputs": [],
   "source": []
  }
 ],
 "metadata": {
  "kernelspec": {
   "display_name": "Python 3 (ipykernel)",
   "language": "python",
   "name": "python3"
  },
  "language_info": {
   "codemirror_mode": {
    "name": "ipython",
    "version": 3
   },
   "file_extension": ".py",
   "mimetype": "text/x-python",
   "name": "python",
   "nbconvert_exporter": "python",
   "pygments_lexer": "ipython3",
   "version": "3.11.5"
  }
 },
 "nbformat": 4,
 "nbformat_minor": 5
}
